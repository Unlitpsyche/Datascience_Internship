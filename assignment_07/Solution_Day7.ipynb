{
 "cells": [
  {
   "cell_type": "code",
   "execution_count": 53,
   "id": "satisfactory-thought",
   "metadata": {},
   "outputs": [
    {
     "data": {
      "text/html": [
       "<div>\n",
       "<style scoped>\n",
       "    .dataframe tbody tr th:only-of-type {\n",
       "        vertical-align: middle;\n",
       "    }\n",
       "\n",
       "    .dataframe tbody tr th {\n",
       "        vertical-align: top;\n",
       "    }\n",
       "\n",
       "    .dataframe thead th {\n",
       "        text-align: right;\n",
       "    }\n",
       "</style>\n",
       "<table border=\"1\" class=\"dataframe\">\n",
       "  <thead>\n",
       "    <tr style=\"text-align: right;\">\n",
       "      <th></th>\n",
       "      <th>Pregnancies</th>\n",
       "      <th>Glucose</th>\n",
       "      <th>BloodPressure</th>\n",
       "      <th>BMI</th>\n",
       "      <th>DiabetesPedigreeFunction</th>\n",
       "      <th>Age</th>\n",
       "      <th>Outcome</th>\n",
       "    </tr>\n",
       "  </thead>\n",
       "  <tbody>\n",
       "    <tr>\n",
       "      <th>0</th>\n",
       "      <td>6</td>\n",
       "      <td>148</td>\n",
       "      <td>72</td>\n",
       "      <td>33.6</td>\n",
       "      <td>0.627</td>\n",
       "      <td>50</td>\n",
       "      <td>1</td>\n",
       "    </tr>\n",
       "    <tr>\n",
       "      <th>1</th>\n",
       "      <td>1</td>\n",
       "      <td>85</td>\n",
       "      <td>66</td>\n",
       "      <td>26.6</td>\n",
       "      <td>0.351</td>\n",
       "      <td>31</td>\n",
       "      <td>0</td>\n",
       "    </tr>\n",
       "    <tr>\n",
       "      <th>2</th>\n",
       "      <td>8</td>\n",
       "      <td>183</td>\n",
       "      <td>64</td>\n",
       "      <td>23.3</td>\n",
       "      <td>0.672</td>\n",
       "      <td>32</td>\n",
       "      <td>1</td>\n",
       "    </tr>\n",
       "    <tr>\n",
       "      <th>3</th>\n",
       "      <td>1</td>\n",
       "      <td>89</td>\n",
       "      <td>66</td>\n",
       "      <td>28.1</td>\n",
       "      <td>0.167</td>\n",
       "      <td>21</td>\n",
       "      <td>0</td>\n",
       "    </tr>\n",
       "    <tr>\n",
       "      <th>4</th>\n",
       "      <td>0</td>\n",
       "      <td>137</td>\n",
       "      <td>40</td>\n",
       "      <td>43.1</td>\n",
       "      <td>2.288</td>\n",
       "      <td>33</td>\n",
       "      <td>1</td>\n",
       "    </tr>\n",
       "  </tbody>\n",
       "</table>\n",
       "</div>"
      ],
      "text/plain": [
       "   Pregnancies  Glucose  BloodPressure   BMI  DiabetesPedigreeFunction  Age  \\\n",
       "0            6      148             72  33.6                     0.627   50   \n",
       "1            1       85             66  26.6                     0.351   31   \n",
       "2            8      183             64  23.3                     0.672   32   \n",
       "3            1       89             66  28.1                     0.167   21   \n",
       "4            0      137             40  43.1                     2.288   33   \n",
       "\n",
       "   Outcome  \n",
       "0        1  \n",
       "1        0  \n",
       "2        1  \n",
       "3        0  \n",
       "4        1  "
      ]
     },
     "metadata": {},
     "output_type": "display_data"
    },
    {
     "name": "stdout",
     "output_type": "stream",
     "text": [
      "<class 'pandas.core.frame.DataFrame'>\n",
      "RangeIndex: 768 entries, 0 to 767\n",
      "Data columns (total 7 columns):\n",
      " #   Column                    Non-Null Count  Dtype  \n",
      "---  ------                    --------------  -----  \n",
      " 0   Pregnancies               768 non-null    int64  \n",
      " 1   Glucose                   768 non-null    int64  \n",
      " 2   BloodPressure             768 non-null    int64  \n",
      " 3   BMI                       768 non-null    float64\n",
      " 4   DiabetesPedigreeFunction  768 non-null    float64\n",
      " 5   Age                       768 non-null    int64  \n",
      " 6   Outcome                   768 non-null    int64  \n",
      "dtypes: float64(2), int64(5)\n",
      "memory usage: 42.1 KB\n"
     ]
    },
    {
     "data": {
      "text/plain": [
       "None"
      ]
     },
     "metadata": {},
     "output_type": "display_data"
    }
   ],
   "source": [
    "import pandas as pd\n",
    "import seaborn as sns\n",
    "import numpy as np\n",
    "import matplotlib.pyplot as plt\n",
    "\n",
    "df = pd.read_csv('Dataset_Day7.csv')\n",
    "display(df.head())\n",
    "display(df.info())"
   ]
  },
  {
   "cell_type": "code",
   "execution_count": 54,
   "id": "charged-wheat",
   "metadata": {},
   "outputs": [
    {
     "name": "stdout",
     "output_type": "stream",
     "text": [
      "% of Missing values are present in\n",
      "Glucose          0.651042\n",
      "BloodPressure    4.557292\n",
      "BMI              1.432292\n",
      "dtype: float64\n",
      "% of Outlier rows in the dataset is 0.5208333333333333\n",
      "\n",
      "<class 'pandas.core.frame.DataFrame'>\n",
      "Int64Index: 764 entries, 0 to 767\n",
      "Data columns (total 7 columns):\n",
      " #   Column                    Non-Null Count  Dtype  \n",
      "---  ------                    --------------  -----  \n",
      " 0   Pregnancies               764 non-null    float64\n",
      " 1   Glucose                   764 non-null    float64\n",
      " 2   BloodPressure             764 non-null    float64\n",
      " 3   BMI                       764 non-null    float64\n",
      " 4   DiabetesPedigreeFunction  764 non-null    float64\n",
      " 5   Age                       764 non-null    float64\n",
      " 6   Outcome                   764 non-null    int64  \n",
      "dtypes: float64(6), int64(1)\n",
      "memory usage: 47.8 KB\n"
     ]
    }
   ],
   "source": [
    "temp = df\n",
    "\n",
    "## Missing Value Detection & treatment\n",
    "\n",
    "MV = (temp[[\"Glucose\",\"BloodPressure\",\"BMI\",\"DiabetesPedigreeFunction\"]] == 0).sum()\n",
    "print(\"% of Missing values are present in\")\n",
    "print(MV[MV>0]/len(temp)*100)\n",
    "\n",
    "for i in MV[MV>0].index:\n",
    "    temp[i].fillna(temp[i].median(),inplace=True)    \n",
    "\n",
    "df_NoMV = temp\n",
    "\n",
    "## Standard scaling of the continuous columns only\n",
    "\n",
    "lis = [\"Pregnancies\",\"Glucose\",\"BloodPressure\",\"BMI\",\"DiabetesPedigreeFunction\",\"Age\"]\n",
    "for i in lis:\n",
    "    df_NoMV[i] = (df_NoMV[i] - df_NoMV[i].mean())/df_NoMV[i].std()\n",
    "\n",
    "### Outlier Detection\n",
    "\n",
    "OutlierRows = df_NoMV[(df_NoMV[lis[0]]>3) |(df_NoMV[lis[0]]<-3) |\n",
    "                   (df_NoMV[lis[0]]>3)|(df_NoMV[lis[0]]<-3)|\n",
    "                   (df_NoMV[lis[0]]>3)|(df_NoMV[lis[0]]<-3)|\n",
    "                    (df_NoMV[lis[0]]>3)|(df_NoMV[lis[0]]<-3)|\n",
    "                    (df_NoMV[lis[0]]>3)|(df_NoMV[lis[0]]<-3)|\n",
    "                    (df_NoMV[lis[0]]>3)|(df_NoMV[lis[0]]<-3)]\n",
    "\n",
    "print(\"% of Outlier rows in the dataset is \" + str(len(OutlierRows)/len(df_NoMV)*100)+\"\\n\")\n",
    "\n",
    "df_NoMV_OutlierFree = df_NoMV.drop(OutlierRows.index,axis=0)\n",
    "df_NoMV_OutlierFree.info()\n"
   ]
  },
  {
   "cell_type": "code",
   "execution_count": 55,
   "id": "eight-custom",
   "metadata": {},
   "outputs": [
    {
     "data": {
      "text/plain": [
       "(573, 191)"
      ]
     },
     "execution_count": 55,
     "metadata": {},
     "output_type": "execute_result"
    }
   ],
   "source": [
    "X = df_NoMV_OutlierFree.drop(\"Outcome\",axis=1)\n",
    "y = df_NoMV_OutlierFree[\"Outcome\"]\n",
    "\n",
    "from sklearn.model_selection import train_test_split\n",
    "\n",
    "X_train,X_test,y_train,y_test = train_test_split(X,y,test_size=0.25,random_state=42)\n",
    "len(X_train),len(X_test)"
   ]
  },
  {
   "cell_type": "code",
   "execution_count": 56,
   "id": "naked-collect",
   "metadata": {},
   "outputs": [
    {
     "name": "stdout",
     "output_type": "stream",
     "text": [
      "Accuracy is 0.7958115183246073\n",
      "Precision is 0.6666666666666666\n",
      "Recall is 0.6779661016949152\n"
     ]
    }
   ],
   "source": [
    "from sklearn.linear_model import LogisticRegression \n",
    "from sklearn.metrics import accuracy_score, precision_score, recall_score\n",
    "model = LogisticRegression() \n",
    "model.fit(X_train, y_train)\n",
    "\n",
    "y_pred = model.predict(X_test)\n",
    "\n",
    "print(\"Accuracy is \"+str(accuracy_score(y_test,y_pred)))\n",
    "print(\"Precision is \"+str(precision_score(y_test,y_pred)))\n",
    "print(\"Recall is \"+str(recall_score(y_test,y_pred)))"
   ]
  },
  {
   "cell_type": "code",
   "execution_count": 61,
   "id": "accessory-cemetery",
   "metadata": {},
   "outputs": [
    {
     "name": "stdout",
     "output_type": "stream",
     "text": [
      "Optimum Threshold is [0.55696013]\n",
      "Precision at Optimum Threshold is [0.72727273]\n",
      "Recall at Optimum Threshold is [0.6779661]\n"
     ]
    },
    {
     "data": {
      "image/png": "[encoded data removed]",
      "text/plain": [
       "<Figure size 432x288 with 1 Axes>"
      ]
     },
     "metadata": {
      "needs_background": "light"
     },
     "output_type": "display_data"
    }
   ],
   "source": [
    "from sklearn.metrics import precision_recall_curve\n",
    "\n",
    "y_scores = model.predict_proba(X_test)\n",
    "\n",
    "prec, rec, tre = precision_recall_curve(y_test, y_scores[:,1])\n",
    "\n",
    "def plot_prec_recall_vs_tresh(precisions, recalls, thresholds):\n",
    "    f_score = (2*prec*rec)/(prec+rec)\n",
    "    plt.plot(thresholds, precisions[:-1], 'b--', label='Precision')\n",
    "    plt.plot(thresholds, recalls[:-1], 'g--', label = 'Recall')\n",
    "    plt.plot(thresholds, f_score[:-1], 'r--', label = 'F1 Score')\n",
    "    plt.xlabel('Threshold')\n",
    "    plt.legend(loc='upper right')\n",
    "    plt.ylim([0,1])\n",
    "\n",
    "plot_prec_recall_vs_tresh(prec, rec, tre)\n",
    "\n",
    "f_score = (2*prec*rec)/(prec+rec)\n",
    "\n",
    "index = np.where(f_score == max(f_score))\n",
    "thresholdOpt = tre[index]\n",
    "print(\"Optimum Threshold is {}\".format(tre[index]))\n",
    "print(\"Precision at Optimum Threshold is {}\".format(prec[index]))\n",
    "print(\"Recall at Optimum Threshold is {}\".format(rec[index]))\n",
    "\n",
    "\n",
    "plt.scatter(tre[index], prec[index], marker='o', color='black', label='Best')\n",
    "plt.show()"
   ]
  }
 ],
 "metadata": {
  "kernelspec": {
   "display_name": "Python 3",
   "language": "python",
   "name": "python3"
  },
  "language_info": {
   "codemirror_mode": {
    "name": "ipython",
    "version": 3
   },
   "file_extension": ".py",
   "mimetype": "text/x-python",
   "name": "python",
   "nbconvert_exporter": "python",
   "pygments_lexer": "ipython3",
   "version": "3.7.9"
  }
 },
 "nbformat": 4,
 "nbformat_minor": 5
}
